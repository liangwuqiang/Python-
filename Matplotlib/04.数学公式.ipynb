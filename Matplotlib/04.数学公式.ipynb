{
 "cells": [
  {
   "cell_type": "markdown",
   "metadata": {},
   "source": [
    "# 04 数学公式"
   ]
  },
  {
   "cell_type": "code",
   "execution_count": 8,
   "metadata": {},
   "outputs": [
    {
     "data": {
      "image/png": "[encoded data removed]",
      "text/plain": [
       "<matplotlib.figure.Figure at 0x7fb58f8c8390>"
      ]
     },
     "metadata": {},
     "output_type": "display_data"
    }
   ],
   "source": [
    "import numpy as np\n",
    "import matplotlib.pyplot as plt\n",
    "\n",
    "t = np.arange(0.0, 2.0, 0.01)\n",
    "s = np.sin(2*np.pi*t)\n",
    "\n",
    "plt.plot(t,s)\n",
    "\n",
    "plt.title(r'$\\alpha_i > \\beta_i$', fontsize=20)\n",
    "plt.xlabel('time (s)')\n",
    "plt.ylabel('volts (mV)')\n",
    "\n",
    "plt.text(1, -0.6, r'$\\sum_{i=0}^\\infty x_i$', fontsize=20)\n",
    "plt.text(0.6, 0.6, r'$\\mathcal{A}\\ \\mathrm{sin}(2 \\omega t)$', fontsize=20)\n",
    "\n",
    "plt.show()"
   ]
  },
  {
   "cell_type": "markdown",
   "metadata": {},
   "source": [
    "### 上下标"
   ]
  },
  {
   "cell_type": "markdown",
   "metadata": {},
   "source": [
    "使用 `_` 和 `^` 表示上下标：\n",
    "\n",
    "$\\alpha_i > \\beta_i$：\n",
    "\n",
    "    r'$\\alpha_i > \\beta_i$'\n",
    "\n",
    "$\\sum\\limits_{i=0}^\\infty x_i$：\n",
    "\n",
    "    r'$\\sum_{i=0}^\\infty x_i$'"
   ]
  },
  {
   "cell_type": "markdown",
   "metadata": {},
   "source": [
    "### 分数"
   ]
  },
  {
   "cell_type": "markdown",
   "metadata": {},
   "source": [
    "$\\frac{3}{4}, \\binom{3}{4}, \\stackrel{3}{4}$：\n",
    "\n",
    "    r'$\\frac{3}{4}, \\binom{3}{4}, \\stackrel{3}{4}$'  # fraction 分数 binomial 二项式 \n",
    "\n",
    "$\\frac{5 - \\frac{1}{x}}{4}$：\n",
    "\n",
    "    r'$\\frac{5 - \\frac{1}{x}}{4}$'\n",
    "\n",
    "如果要使括号大小与括号内部的大小对应，可以使用 `\\left` 和 `\\right` 选项：\n",
    "\n",
    "$(\\frac{5 - \\frac{1}{x}}{4})$\n",
    "\n",
    "    r'$(\\frac{5 - \\frac{1}{x}}{4})$'\n",
    "\n",
    "$\\left(\\frac{5 - \\frac{1}{x}}{4}\\right)$：\n",
    "\n",
    "    r'$\\left(\\frac{5 - \\frac{1}{x}}{4}\\right)$'"
   ]
  },
  {
   "cell_type": "markdown",
   "metadata": {},
   "source": [
    "### 根号"
   ]
  },
  {
   "cell_type": "markdown",
   "metadata": {},
   "source": [
    "$\\sqrt{2}$：\n",
    "\n",
    "    r'$\\sqrt{2}$'\n",
    "\n",
    "$\\sqrt[3]{x}$：\n",
    "\n",
    "    r'$\\sqrt[3]{x}$'"
   ]
  },
  {
   "cell_type": "markdown",
   "metadata": {},
   "source": [
    "### 特殊字体"
   ]
  },
  {
   "cell_type": "markdown",
   "metadata": {},
   "source": [
    "命令|显示\n",
    "--|--\n",
    "\\mathrm{Roman}|$\\mathrm{Roman}$\n",
    "\\mathit{Italic}|$\\mathit{Italic}$\n",
    "\\mathtt{Typewriter}|$\\mathtt{Typewriter}$\n",
    "\\mathcal{CALLIGRAPHY}|$\\mathcal{CALLIGRAPHY}$\n",
    "\\mathbb{blackboard}|$\\mathbb{blackboard}$\n",
    "\\mathfrak{Fraktur}|$\\mathfrak{Fraktur}$\n",
    "\\mathsf{sansserif}|$\\mathsf{sansserif}$\n",
    "\n",
    "$s(t) = \\mathcal{A}\\ \\sin(2 \\omega t)$：\n",
    "\n",
    "    s(t) = \\mathcal{A}\\ \\sin(2 \\omega t)\n",
    "\n",
    "注：\n",
    "\n",
    "- 默认忽略空格，要打出空格使用 `'\\ '`\n",
    "- \\sin 默认显示为 Roman 字体"
   ]
  }
 ],
 "metadata": {
  "kernelspec": {
   "display_name": "Python 3",
   "language": "python",
   "name": "python3"
  },
  "language_info": {
   "codemirror_mode": {
    "name": "ipython",
    "version": 3
   },
   "file_extension": ".py",
   "mimetype": "text/x-python",
   "name": "python",
   "nbconvert_exporter": "python",
   "pygments_lexer": "ipython3",
   "version": "3.5.2"
  }
 },
 "nbformat": 4,
 "nbformat_minor": 2
}
